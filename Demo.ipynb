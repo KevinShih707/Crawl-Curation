{
 "cells": [
  {
   "cell_type": "code",
   "execution_count": 1,
   "metadata": {},
   "outputs": [
    {
     "name": "stderr",
     "output_type": "stream",
     "text": [
      "E:\\Anaconda3\\envs\\scrapingEnv\\lib\\site-packages\\gensim\\utils.py:1197: UserWarning: detected Windows; aliasing chunkize to chunkize_serial\n",
      "  warnings.warn(\"detected Windows; aliasing chunkize to chunkize_serial\")\n"
     ]
    }
   ],
   "source": [
    "from pprint import pprint\n",
    "from DataProcessing.src.corpora import Corpora"
   ]
  },
  {
   "cell_type": "code",
   "execution_count": 2,
   "metadata": {},
   "outputs": [],
   "source": [
    "path =  \"DataProcessing/test_data/testData.csv\"\n",
    "extension = 'csv'\n",
    "stopwords = \"DataProcessing/src/stopwords.txt\"\n",
    "deleteUrl = True\n",
    "corpora = Corpora(path, extension, stopwords, deleteUrl)"
   ]
  },
  {
   "cell_type": "code",
   "execution_count": 3,
   "metadata": {
    "scrolled": false
   },
   "outputs": [
    {
     "name": "stderr",
     "output_type": "stream",
     "text": [
      "Building prefix dict from the default dictionary ...\n",
      "Loading model from cache C:\\Users\\fkl76\\AppData\\Local\\Temp\\jieba.cache\n",
      "Loading model cost 0.715 seconds.\n",
      "Prefix dict has been built succesfully.\n"
     ]
    },
    {
     "name": "stdout",
     "output_type": "stream",
     "text": [
      "[(0, '\\n'),\n",
      " (1, 'io'),\n",
      " (2, 'loading'),\n",
      " (3, '不是'),\n",
      " (4, '人人'),\n",
      " (5, '介紹'),\n",
      " (6, '但動畫'),\n",
      " (7, '作'),\n",
      " (8, '作品'),\n",
      " (9, '你'),\n",
      " (10, '使用'),\n",
      " (11, '做'),\n",
      " (12, '分'),\n",
      " (13, '加'),\n",
      " (14, '動畫')]\n"
     ]
    }
   ],
   "source": [
    "pprint (list(corpora.Dictionary.items())[:15])"
   ]
  },
  {
   "cell_type": "code",
   "execution_count": 4,
   "metadata": {
    "scrolled": true
   },
   "outputs": [
    {
     "name": "stdout",
     "output_type": "stream",
     "text": [
      "[(0, 1),\n",
      " (1, 1),\n",
      " (2, 1),\n",
      " (3, 1),\n",
      " (4, 1),\n",
      " (5, 1),\n",
      " (6, 1),\n",
      " (7, 1),\n",
      " (8, 1),\n",
      " (9, 1),\n",
      " (10, 1),\n",
      " (11, 1),\n",
      " (12, 1),\n",
      " (13, 1),\n",
      " (14, 2)]\n"
     ]
    }
   ],
   "source": [
    "pprint(corpora.DtPair[0][:15])"
   ]
  },
  {
   "cell_type": "code",
   "execution_count": 5,
   "metadata": {
    "scrolled": true
   },
   "outputs": [
    {
     "data": {
      "text/plain": [
       "array([[ 1.,  1.,  1., ...,  0.,  0.,  0.],\n",
       "       [ 0.,  0.,  0., ...,  0.,  0.,  0.],\n",
       "       [10.,  0.,  0., ...,  0.,  0.,  0.],\n",
       "       ...,\n",
       "       [ 5.,  0.,  0., ...,  0.,  0.,  0.],\n",
       "       [ 3.,  0.,  0., ...,  0.,  0.,  0.],\n",
       "       [ 3.,  0.,  0., ...,  1.,  2.,  1.]], dtype=float32)"
      ]
     },
     "execution_count": 5,
     "metadata": {},
     "output_type": "execute_result"
    }
   ],
   "source": [
    "corpora.DtMatrix"
   ]
  },
  {
   "cell_type": "code",
   "execution_count": 6,
   "metadata": {
    "scrolled": true
   },
   "outputs": [
    {
     "name": "stdout",
     "output_type": "stream",
     "text": [
      "[(0, 0.002563731988004808),\n",
      " (1, 0.23017476761814867),\n",
      " (2, 0.23017476761814867),\n",
      " (3, 0.16088525832009948),\n",
      " (4, 0.23017476761814867),\n",
      " (5, 0.17526413065275978),\n",
      " (6, 0.23017476761814867),\n",
      " (7, 0.11032360796538153),\n",
      " (8, 0.14061937600373514),\n",
      " (9, 0.03668511205666142),\n",
      " (10, 0.11032360796538153),\n",
      " (11, 0.10197394148964484),\n",
      " (12, 0.19553001296912406),\n",
      " (13, 0.23017476761814867),\n",
      " (14, 0.35052826130551956)]\n"
     ]
    }
   ],
   "source": [
    "pprint(list(corpora.TfidfPair)[0][:15])"
   ]
  },
  {
   "cell_type": "code",
   "execution_count": 7,
   "metadata": {
    "scrolled": true
   },
   "outputs": [
    {
     "name": "stdout",
     "output_type": "stream",
     "text": [
      "[[0.00256373 0.23017476 0.23017476 ... 0.         0.         0.        ]\n",
      " [0.         0.         0.         ... 0.         0.         0.        ]\n",
      " [0.01784812 0.         0.         ... 0.         0.         0.        ]\n",
      " ...\n",
      " [0.00808417 0.         0.         ... 0.         0.         0.        ]\n",
      " [0.00588553 0.         0.         ... 0.         0.         0.        ]\n",
      " [0.00555898 0.         0.         ... 0.16636382 0.33272764 0.16636382]]\n"
     ]
    }
   ],
   "source": [
    "print(corpora.TfidfMatrix)"
   ]
  },
  {
   "cell_type": "code",
   "execution_count": null,
   "metadata": {},
   "outputs": [],
   "source": []
  },
  {
   "cell_type": "code",
   "execution_count": null,
   "metadata": {},
   "outputs": [],
   "source": []
  },
  {
   "cell_type": "code",
   "execution_count": null,
   "metadata": {},
   "outputs": [],
   "source": []
  },
  {
   "cell_type": "code",
   "execution_count": 8,
   "metadata": {},
   "outputs": [],
   "source": [
    "from DataProcessing.src.lda import Lda"
   ]
  },
  {
   "cell_type": "code",
   "execution_count": 9,
   "metadata": {},
   "outputs": [],
   "source": [
    "lda = Lda(corpora, numTopics = 3)"
   ]
  },
  {
   "cell_type": "code",
   "execution_count": 10,
   "metadata": {},
   "outputs": [
    {
     "name": "stdout",
     "output_type": "stream",
     "text": [
      "[(0,\n",
      "  [('與', 0.001004703),\n",
      "   ('圖表', 0.0009859027),\n",
      "   ('作品', 0.0009222365),\n",
      "   ('美國', 0.0008818279),\n",
      "   ('為', 0.0008363302),\n",
      "   ('就', 0.0008042073),\n",
      "   ('你', 0.0007877751),\n",
      "   ('呢', 0.0007751961),\n",
      "   ('視覺', 0.0007716096),\n",
      "   ('是', 0.0007581345)]),\n",
      " (1,\n",
      "  [('在', 0.0011115276),\n",
      "   ('你', 0.0010061102),\n",
      "   ('台灣', 0.0009773496),\n",
      "   ('來', 0.0009686701),\n",
      "   ('覺化', 0.0009625864),\n",
      "   ('囉', 0.0009558179),\n",
      "   ('也', 0.0009404045),\n",
      "   ('圖表', 0.0009237952),\n",
      "   ('嗎', 0.0009205376),\n",
      "   ('工具', 0.00091335503)]),\n",
      " (2,\n",
      "  [('圖', 0.0010730657),\n",
      "   ('圖表', 0.0009781108),\n",
      "   ('看', 0.00095786847),\n",
      "   ('都', 0.0009105473),\n",
      "   ('有', 0.0008956586),\n",
      "   ('間', 0.0008458171),\n",
      "   ('你', 0.0008345645),\n",
      "   ('一張', 0.0008289757),\n",
      "   ('如何', 0.0008207501),\n",
      "   ('簡單', 0.0008157113)])]\n"
     ]
    }
   ],
   "source": [
    "pprint(lda.TopicsList)"
   ]
  },
  {
   "cell_type": "code",
   "execution_count": 11,
   "metadata": {},
   "outputs": [
    {
     "name": "stdout",
     "output_type": "stream",
     "text": [
      "[[(0, 0.05936593), (1, 0.059477538), (2, 0.88115656)],\n",
      " [(0, 0.095618166), (1, 0.81041944), (2, 0.09396244)],\n",
      " [(0, 0.045083035), (1, 0.90983504), (2, 0.045081954)],\n",
      " [(0, 0.037801553), (1, 0.9249488), (2, 0.037249655)],\n",
      " [(0, 0.054349773), (1, 0.053854913), (2, 0.8917953)],\n",
      " [(0, 0.054562196), (1, 0.8897504), (2, 0.055687375)],\n",
      " [(0, 0.054872718), (1, 0.8905638), (2, 0.05456346)],\n",
      " [(0, 0.33333334), (1, 0.33333334), (2, 0.33333334)],\n",
      " [(0, 0.93555707), (1, 0.03276311), (2, 0.031679843)],\n",
      " [(0, 0.04572633), (1, 0.90791786), (2, 0.046355814)],\n",
      " [(0, 0.03148728), (1, 0.22638832), (2, 0.7421244)],\n",
      " [(0, 0.053473417), (1, 0.8937264), (2, 0.05280019)],\n",
      " [(0, 0.0313392), (1, 0.032909185), (2, 0.9357516)],\n",
      " [(0, 0.9096491), (1, 0.044888496), (2, 0.045462452)],\n",
      " [(0, 0.0427848), (1, 0.91465807), (2, 0.042557094)]]\n"
     ]
    }
   ],
   "source": [
    "pprint(lda.topicsDistribution()[:15])"
   ]
  },
  {
   "cell_type": "code",
   "execution_count": 12,
   "metadata": {
    "scrolled": false
   },
   "outputs": [
    {
     "name": "stdout",
     "output_type": "stream",
     "text": [
      "[7, 8, 13, 16, 19, 26, 33, 34, 35, 39, 44, 48, 49, 50, 51]\n",
      "[1, 2, 3, 5, 6, 9, 11, 14, 17, 18, 23, 25, 27, 28, 32]\n",
      "[0, 4, 10, 12, 15, 20, 21, 22, 24, 29, 30, 31, 36, 37, 38]\n"
     ]
    }
   ],
   "source": [
    "topics = lda.findArticleMatched()\n",
    "for topic in topics:\n",
    "    print(topic[:15])"
   ]
  },
  {
   "cell_type": "code",
   "execution_count": 13,
   "metadata": {},
   "outputs": [
    {
     "data": {
      "text/plain": [
       "[(7, 38.164105014496634),\n",
       " (8, 35.18742715410032),\n",
       " (13, 36.801494023396025),\n",
       " (16, 36.64384054316487),\n",
       " (19, 37.64224987349032),\n",
       " (26, 36.949102613296176),\n",
       " (33, 37.508452065784276),\n",
       " (34, 37.321555633709906),\n",
       " (35, 37.182854738531994),\n",
       " (39, 37.2369259924992),\n",
       " (44, 36.243992521975386),\n",
       " (48, 37.093048464186246),\n",
       " (49, 36.81095592582891),\n",
       " (50, 36.274297137619584),\n",
       " (51, 36.75405317809958),\n",
       " (52, 37.280462434499206),\n",
       " (57, 36.80290764673777),\n",
       " (59, 37.01296716361465),\n",
       " (61, 36.43944335337624),\n",
       " (69, 37.43931999389672),\n",
       " (70, 37.15995246114185),\n",
       " (71, 37.1052703323163),\n",
       " (75, 36.86233932890054),\n",
       " (78, 36.71631293395579),\n",
       " (79, 37.07312422571376),\n",
       " (86, 36.20973385950087),\n",
       " (88, 37.29240442124518),\n",
       " (90, 37.8630494692282),\n",
       " (91, 37.56453975946377),\n",
       " (92, 37.330223405279455),\n",
       " (97, 36.61943414479764),\n",
       " (98, 36.99368319593767)]"
      ]
     },
     "execution_count": 13,
     "metadata": {},
     "output_type": "execute_result"
    }
   ],
   "source": [
    "lda.showRelativeEntropy(0, lda.corpora.DtMatrix)"
   ]
  },
  {
   "cell_type": "code",
   "execution_count": 14,
   "metadata": {},
   "outputs": [
    {
     "data": {
      "text/plain": [
       "[8, 86, 44, 50, 61, 97, 16, 78, 51, 13]"
      ]
     },
     "execution_count": 14,
     "metadata": {},
     "output_type": "execute_result"
    }
   ],
   "source": [
    "lda.showAuthenticArticle(0, num = 10)"
   ]
  },
  {
   "cell_type": "code",
   "execution_count": null,
   "metadata": {},
   "outputs": [],
   "source": []
  }
 ],
 "metadata": {
  "kernelspec": {
   "display_name": "Python 3",
   "language": "python",
   "name": "python3"
  },
  "language_info": {
   "codemirror_mode": {
    "name": "ipython",
    "version": 3
   },
   "file_extension": ".py",
   "mimetype": "text/x-python",
   "name": "python",
   "nbconvert_exporter": "python",
   "pygments_lexer": "ipython3",
   "version": "3.6.4"
  }
 },
 "nbformat": 4,
 "nbformat_minor": 2
}
